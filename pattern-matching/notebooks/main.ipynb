{
 "cells": [
  {
   "cell_type": "markdown",
   "metadata": {},
   "source": [
    "## match regex"
   ]
  },
  {
   "cell_type": "code",
   "execution_count": 14,
   "metadata": {},
   "outputs": [
    {
     "name": "stdout",
     "output_type": "stream",
     "text": [
      "day provided: it is 20\n"
     ]
    },
    {
     "data": {
      "text/plain": [
       "\u001b[36mdateNoDay\u001b[39m: \u001b[32mString\u001b[39m = \u001b[32m\"2016-08\"\u001b[39m\n",
       "\u001b[36mdateWithDay\u001b[39m: \u001b[32mString\u001b[39m = \u001b[32m\"2016-08-20\"\u001b[39m\n",
       "\u001b[36mYearAndMonth\u001b[39m: \u001b[32mscala\u001b[39m.\u001b[32mutil\u001b[39m.\u001b[32mmatching\u001b[39m.\u001b[32mRegex\u001b[39m = (\\d{4})-([01][0-9])\n",
       "\u001b[36mYearMonthAndDay\u001b[39m: \u001b[32mscala\u001b[39m.\u001b[32mutil\u001b[39m.\u001b[32mmatching\u001b[39m.\u001b[32mRegex\u001b[39m = (\\d{4})-([01][0-9])-([012][0-9])"
      ]
     },
     "execution_count": 14,
     "metadata": {},
     "output_type": "execute_result"
    }
   ],
   "source": [
    "val dateNoDay = \"2016-08\"\n",
    "val dateWithDay = \"2016-08-20\"\n",
    "\n",
    "// these are the patterns (note the starting capital letter)\n",
    "val YearAndMonth = \"\"\"(\\d{4})-([01][0-9])\"\"\".r\n",
    "val YearMonthAndDay = \"\"\"(\\d{4})-([01][0-9])-([012][0-9])\"\"\".r\n",
    "\n",
    "// this prints: \"day provided: it is 20\"\n",
    "dateWithDay match{\n",
    "  case YearAndMonth(year,month) => println(\"no day provided\")\n",
    "  case YearMonthAndDay(year,month,day) => println(s\"day provided: it is $day\")\n",
    "}"
   ]
  },
  {
   "cell_type": "markdown",
   "metadata": {},
   "source": [
    "As with regular case classes, you will get a MatchError if you exhaust your options with matching anything"
   ]
  },
  {
   "cell_type": "code",
   "execution_count": 15,
   "metadata": {},
   "outputs": [
    {
     "ename": "",
     "evalue": "",
     "output_type": "error",
     "traceback": [
      "\u001b[31mscala.MatchError: foo-bar-baz (of class java.lang.String)\u001b[39m\n  ammonite.$sess.cmd14$Helper.<init>(\u001b[32mcmd14.sc\u001b[39m:\u001b[32m4\u001b[39m)\n  ammonite.$sess.cmd14$.<init>(\u001b[32mcmd14.sc\u001b[39m:\u001b[32m7\u001b[39m)\n  ammonite.$sess.cmd14$.<clinit>(\u001b[32mcmd14.sc\u001b[39m:\u001b[32m-1\u001b[39m)"
     ]
    }
   ],
   "source": [
    "// this won't match any patterns\n",
    "val badString = \"foo-bar-baz\"\n",
    "\n",
    "// scala.MatchError: foo-bar-baz (of class java.lang.String)\n",
    "badString match{\n",
    "  case YearAndMonth(year,month) => println(\"no day provided\")\n",
    "  case YearMonthAndDay(year,month,day) => println(\"day provided: it is $day\")\n",
    "}"
   ]
  },
  {
   "cell_type": "markdown",
   "metadata": {},
   "source": [
    "must use empty parens, even if there are no capturing groups"
   ]
  },
  {
   "cell_type": "code",
   "execution_count": 16,
   "metadata": {},
   "outputs": [
    {
     "data": {
      "text/plain": [
       "\u001b[36mPattern\u001b[39m: \u001b[32mscala\u001b[39m.\u001b[32mutil\u001b[39m.\u001b[32mmatching\u001b[39m.\u001b[32mRegex\u001b[39m = ^(?:foo|bar)\\.baz\n",
       "\u001b[36mres15_1\u001b[39m: \u001b[32mString\u001b[39m = \u001b[32m\"ok\"\u001b[39m"
      ]
     },
     "execution_count": 16,
     "metadata": {},
     "output_type": "execute_result"
    }
   ],
   "source": [
    "// groups starting with ?: are \"non-capturing\" groups\n",
    "// so this pattern has no capturing groups\n",
    "val Pattern = \"\"\"^(?:foo|bar)\\.baz\"\"\".r\n",
    "\n",
    "// no matching groups but you must use empty parens\n",
    "\"\"\"foo.baz\"\"\" match {\n",
    "  case Pattern() => \"ok\" // MUST have parens at the end of Pattern\n",
    "  case _ => \"bleh\"\n",
    "}"
   ]
  },
  {
   "cell_type": "code",
   "execution_count": null,
   "metadata": {},
   "outputs": [],
   "source": []
  }
 ],
 "metadata": {
  "kernelspec": {
   "display_name": "Scala 2.12.8",
   "language": "scala",
   "name": "scala_2_12_8"
  },
  "language_info": {
   "codemirror_mode": "text/x-scala",
   "file_extension": ".scala",
   "mimetype": "text/x-scala",
   "name": "scala",
   "nbconvert_exporter": "script",
   "version": "2.12.8"
  }
 },
 "nbformat": 4,
 "nbformat_minor": 2
}
